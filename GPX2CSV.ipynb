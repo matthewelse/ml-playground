{
 "cells": [
  {
   "cell_type": "markdown",
   "metadata": {},
   "source": [
    "# Convert GPX files to CSV\n",
    "\n",
    "This will allow you to convert GPX files (such as those exported from Strava) to CSV, to allow easy import into Python with Pandas.\n",
    "\n",
    "Requires `gpxpy`:\n",
    "\n",
    "```bash\n",
    "sudo pip install gpxpy\n",
    "```"
   ]
  },
  {
   "cell_type": "code",
   "execution_count": 1,
   "metadata": {},
   "outputs": [],
   "source": [
    "import pandas as pd\n",
    "\n",
    "import gpxpy\n",
    "import gpxpy.gpx \n",
    "\n",
    "with open('3x7_Intervals.gpx', 'r') as gpx:\n",
    "    gpx = gpxpy.parse(gpx)\n",
    "\n",
    "assert len(gpx.tracks) == 1\n",
    "assert len(gpx.tracks[0].segments) == 1\n",
    "\n",
    "points = gpx.tracks[0].segments[0].points\n",
    "\n",
    "# time, latitude, longitude, elevation\n",
    "data = {'time': [], 'latitude': [], 'longitude': [], 'elevation': []}\n",
    "\n",
    "for p in points:\n",
    "    data['time'].append(p.time)\n",
    "    data['latitude'].append(p.latitude)\n",
    "    data['longitude'].append(p.longitude)\n",
    "    data['elevation'].append(p.time)\n",
    "\n",
    "df = pd.DataFrame(data=data)\n",
    "df.to_csv('3x7_Intervals.csv')"
   ]
  }
 ],
 "metadata": {
  "kernelspec": {
   "display_name": "Python 3",
   "language": "python",
   "name": "python3"
  },
  "language_info": {
   "codemirror_mode": {
    "name": "ipython",
    "version": 3
   },
   "file_extension": ".py",
   "mimetype": "text/x-python",
   "name": "python",
   "nbconvert_exporter": "python",
   "pygments_lexer": "ipython3",
   "version": "3.6.3"
  }
 },
 "nbformat": 4,
 "nbformat_minor": 2
}
